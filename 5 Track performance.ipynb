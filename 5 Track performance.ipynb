{
 "cells": [
  {
   "attachments": {},
   "cell_type": "markdown",
   "metadata": {},
   "source": [
    "## Track performance!"
   ]
  },
  {
   "attachments": {},
   "cell_type": "markdown",
   "metadata": {},
   "source": [
    "## Import"
   ]
  },
  {
   "cell_type": "code",
   "execution_count": null,
   "metadata": {},
   "outputs": [],
   "source": [
    "# Provides ways to work with large multidimensional arrays\n",
    "import numpy as np \n",
    "# Allows for further data manipulation and analysis\n",
    "import pandas as pd \n",
    "import matplotlib.pyplot as plt # Plotting\n",
    "import matplotlib.dates as mdates # Styling dates\n",
    "%matplotlib inline\n",
    "\n",
    "# pip install numpy\n",
    "# conda install -c anaconda pandas\n",
    "# conda install -c conda-forge matplotlib\n",
    "\n",
    "import datetime as dt # For defining dates\n",
    "\n",
    "import time\n",
    "\n",
    "# In Powershell Prompt : conda install -c conda-forge multitasking\n",
    "# pip install -i https://pypi.anaconda.org/ranaroussi/simple yfinance\n",
    "\n",
    "import yfinance as yf\n",
    "\n",
    "# To show all your output File -> Preferences -> Settings Search for Notebook\n",
    "# Notebook Output Text Line Limit and set to 100\n",
    "\n",
    "# Used for file handling like deleting files\n",
    "import os\n",
    "\n",
    "# conda install -c conda-forge cufflinks-py\n",
    "# conda install -c plotly plotly\n",
    "import cufflinks as cf\n",
    "import plotly.express as px\n",
    "import plotly.graph_objects as go\n",
    "\n",
    "# Make Plotly work in your Jupyter Notebook\n",
    "from plotly.offline import download_plotlyjs, init_notebook_mode, plot, iplot\n",
    "init_notebook_mode(connected=True)\n",
    "# Use Plotly locally\n",
    "cf.go_offline()\n",
    "\n",
    "from plotly.subplots import make_subplots\n",
    "\n",
    "# New Imports\n",
    "# Used to get data from a directory\n",
    "import os\n",
    "from os import listdir\n",
    "from os.path import isfile, join\n",
    "\n",
    "import warnings\n",
    "warnings.simplefilter(\"ignore\")"
   ]
  },
  {
   "attachments": {},
   "cell_type": "markdown",
   "metadata": {},
   "source": [
    "## Setup"
   ]
  },
  {
   "cell_type": "code",
   "execution_count": null,
   "metadata": {},
   "outputs": [],
   "source": [
    "port_list = [\n",
    "     \"SGML\", \"PWR\", \"SBR\", \"SUN\", \"EQNR\", \"VICI\", \"IRM\", \"RFP\", \"GPK\", \"KNSL\", \"LPLA\", \"AJG\", \"MUSA\", \"LNG\", \"CWST\", \"TRMD\", \"DDS\", \"DAR\", \"KDP\", \"GIS\", \"HSY\", \"EXTR\", \"PTNR\", \"ENPH\", \"LSCC\", \"RENN\", \"NSSC\", \"DXCM\", \"LLY\", \"CYTK\"\n",
    "]\n",
    "num_of_shares = [56, 3, 15, 2, 11, 1, 4, 6, 16, 1, 1, 1, 3, 1, 7, 14, 3, 1, 8, 3, 1, 1, 13, 5, 10, 11, 9, 5, 2, 12]\n",
    "\n",
    "# Provide a valid directory path - in here all the financial CSV data will be saved.\n",
    "PATH = \"C:/Users/Mesh/Desktop/PythonFinance/Python4Finance/BigSectorStocks/\"\n",
    "\n",
    "# Start end date defaults\n",
    "S_DATE = \"2018-02-01\"\n",
    "E_DATE = \"2023-12-06\"\n",
    "S_DATE_DT = pd.to_datetime(S_DATE)\n",
    "E_DATE_DT = pd.to_datetime(E_DATE)\n",
    "\n",
    "# ________________________\n",
    "\n",
    "# Define functions\n",
    "def get_column_from_csv(file, col_name):\n",
    "    # Try to get the file and if it doesn't exist issue a warning\n",
    "    try:\n",
    "        df = pd.read_csv(file)\n",
    "    except FileNotFoundError:\n",
    "        print(\"File Doesn't Exist\")\n",
    "    else:\n",
    "        return df[col_name]\n",
    "\n",
    "# Function that gets a dataframe by providing a ticker and starting date\n",
    "def save_to_csv_from_yahoo(folder, ticker):\n",
    "    stock = yf.Ticker(ticker)\n",
    "    \n",
    "    try:\n",
    "        print(\"Get Data for : \", ticker)\n",
    "        # Get historical closing price data\n",
    "        df = stock.history(period=\"5y\")\n",
    "    \n",
    "        # Wait 2 seconds\n",
    "        # time.sleep(2)\n",
    "        \n",
    "        # Remove the period for saving the file name\n",
    "        # Save data to a CSV file\n",
    "        # File to save to \n",
    "        the_file = folder + ticker.replace(\".\", \"_\") + '.csv'\n",
    "        print(the_file, \" Saved\")\n",
    "        df.to_csv(the_file)\n",
    "    except Exception as ex:\n",
    "        print(\"Couldn't Get Data for :\", ticker)\n",
    "\n",
    "# ________________________\n",
    "\n",
    "# Fetch\n",
    "for x in port_list:\n",
    "    save_to_csv_from_yahoo(PATH, x)\n",
    "print(\"Finished\")\n",
    "\n",
    "# ______________________________\n",
    "\n",
    "# Reads a dataframe from the CSV file, changes index to date and returns it\n",
    "def get_stock_df_from_csv(ticker):\n",
    "    \n",
    "    # Try to get the file and if it doesn't exist issue a warning\n",
    "    try:\n",
    "        df = pd.read_csv(PATH + ticker + '.csv', index_col=0)\n",
    "    except FileNotFoundError as ex:\n",
    "        print(ex)\n",
    "    else:\n",
    "        return df"
   ]
  },
  {
   "attachments": {},
   "cell_type": "markdown",
   "metadata": {},
   "source": [
    "## Calculate"
   ]
  },
  {
   "cell_type": "code",
   "execution_count": null,
   "metadata": {},
   "outputs": [
    {
     "name": "stdout",
     "output_type": "stream",
     "text": [
      "Value of portfolio is  13634.600073814392\n"
     ]
    }
   ],
   "source": [
    "# Calculate value\n",
    "sum = 0 \n",
    "for i in range(len(port_list)):\n",
    "    try:\n",
    "        stock_df = get_stock_df_from_csv(port_list[i])\n",
    "        sum += stock_df['Close'].iloc[-1] * num_of_shares[i]\n",
    "    except Exception as ex:\n",
    "        print(ex)\n",
    "\n",
    "print(\"Value of portfolio is \", sum)"
   ]
  }
 ],
 "metadata": {
  "kernelspec": {
   "display_name": "Python 3",
   "language": "python",
   "name": "python3"
  },
  "language_info": {
   "name": "python",
   "version": "3.10.0 (tags/v3.10.0:b494f59, Oct  4 2021, 19:00:18) [MSC v.1929 64 bit (AMD64)]"
  },
  "orig_nbformat": 4,
  "vscode": {
   "interpreter": {
    "hash": "e746ee09c6a2ad0fc4dec3f368ecb56eee07dc8f8f7d50a10ffdef9bd7f2422e"
   }
  }
 },
 "nbformat": 4,
 "nbformat_minor": 2
}
